{
 "cells": [
  {
   "cell_type": "code",
   "execution_count": 35,
   "metadata": {
    "collapsed": true
   },
   "outputs": [],
   "source": [
    "import pandas as pd\n",
    "import numpy as np"
   ]
  },
  {
   "cell_type": "code",
   "execution_count": 190,
   "metadata": {
    "collapsed": true
   },
   "outputs": [],
   "source": [
    "coordinates = np.array(pd.read_csv('places.csv',header=None))"
   ]
  },
  {
   "cell_type": "code",
   "execution_count": 191,
   "metadata": {
    "collapsed": true
   },
   "outputs": [],
   "source": [
    "def calc_distance(coord_1, coord_2):\n",
    "    return np.linalg.norm(coord_1 - coord_2)"
   ]
  },
  {
   "cell_type": "code",
   "execution_count": 193,
   "metadata": {},
   "outputs": [
    {
     "data": {
      "text/plain": [
       "0.0057423847746492481"
      ]
     },
     "execution_count": 193,
     "metadata": {},
     "output_type": "execute_result"
    }
   ],
   "source": [
    "calc_distance(coordinates[0], coordinates[1])"
   ]
  },
  {
   "cell_type": "code",
   "execution_count": 212,
   "metadata": {},
   "outputs": [],
   "source": [
    "def k_mean(data, k, repeat = 3):\n",
    "    centroids = np.random.uniform(np.min(data), np.max(data), (k, data.shape[1]))\n",
    "    #centroids = pd.DataFrame(data = data[:k])\n",
    "    #for i in range(0, data.shape[1]):\n",
    "    #    centroids[i] = np.random.uniform(np.min(data), np.max(data), k)\n",
    "    cluster = {}\n",
    "    for i in range(0, k):\n",
    "        cluster[i] = set()\n",
    "    \n",
    "    dist = np.zeros(k)\n",
    "    new_centroids = np.zeros((k, data.shape[1]))\n",
    "    for i in range(0, data.shape[0]):        \n",
    "        for j in range(0, k):\n",
    "            dist[j] = calc_distance(data[i], centroids[j])\n",
    "        cluster_id = np.argmin(dist)\n",
    "        cluster[cluster_id].add(i)\n",
    "        new_centroids[cluster_id] += data[i]\n",
    "    \n",
    "    for i in range(0, k):\n",
    "        centroids[i] = new_centroids[i] / len(cluster[i])\n",
    "    \n",
    "    return cluster"
   ]
  },
  {
   "cell_type": "code",
   "execution_count": 213,
   "metadata": {},
   "outputs": [
    {
     "name": "stderr",
     "output_type": "stream",
     "text": [
      "C:\\Users\\geesi\\Anaconda3\\envs\\dlnd\\lib\\site-packages\\ipykernel_launcher.py:20: RuntimeWarning: invalid value encountered in true_divide\n"
     ]
    }
   ],
   "source": [
    "a=k_mean(coordinates, 3)"
   ]
  },
  {
   "cell_type": "code",
   "execution_count": 154,
   "metadata": {},
   "outputs": [
    {
     "data": {
      "text/plain": [
       "7.4997988356360032"
      ]
     },
     "execution_count": 154,
     "metadata": {},
     "output_type": "execute_result"
    }
   ],
   "source": [
    "calc_distance(coordinates.iloc[0],a[0])"
   ]
  },
  {
   "cell_type": "code",
   "execution_count": 185,
   "metadata": {},
   "outputs": [],
   "source": [
    "new_centroids = np.zeros((k, coordinates.shape[1]))"
   ]
  }
 ],
 "metadata": {
  "kernelspec": {
   "display_name": "Python 3",
   "language": "python",
   "name": "python3"
  },
  "language_info": {
   "codemirror_mode": {
    "name": "ipython",
    "version": 3
   },
   "file_extension": ".py",
   "mimetype": "text/x-python",
   "name": "python",
   "nbconvert_exporter": "python",
   "pygments_lexer": "ipython3",
   "version": "3.5.4"
  }
 },
 "nbformat": 4,
 "nbformat_minor": 2
}
