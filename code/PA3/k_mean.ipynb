{
 "cells": [
  {
   "cell_type": "code",
   "execution_count": 276,
   "metadata": {
    "collapsed": true
   },
   "outputs": [],
   "source": [
    "import pandas as pd\n",
    "import numpy as np"
   ]
  },
  {
   "cell_type": "code",
   "execution_count": 277,
   "metadata": {
    "collapsed": true
   },
   "outputs": [],
   "source": [
    "coordinates = np.array(pd.read_csv('places.csv',header=None))"
   ]
  },
  {
   "cell_type": "code",
   "execution_count": 311,
   "metadata": {
    "collapsed": true
   },
   "outputs": [],
   "source": [
    "def calc_distance(coord_1, coord_2):\n",
    "    return np.linalg.norm(coord_1 - coord_2)\n",
    "\n",
    "def calc_sse(points, centroid):\n",
    "    sse = 0\n",
    "    for i in range(0, points.shape[0]):\n",
    "        sse += calc_distance(points[i], centroid) ** 2\n",
    "    \n",
    "    return sse"
   ]
  },
  {
   "cell_type": "code",
   "execution_count": 365,
   "metadata": {},
   "outputs": [],
   "source": [
    "def k_mean(data, k, repeat = 10):\n",
    "    centroids = coordinates[np.random.randint(0, data.shape[0] - 1, k)]\n",
    "    #centroids = sorted(centroids, key=lambda a: a[1])\n",
    "    clusters = []\n",
    "    SSEs = []\n",
    "    dist = np.zeros(k)\n",
    "    \n",
    "    for r in range(0, repeat):\n",
    "        print(\"Repeat:\", r)\n",
    "        clusters.append({})\n",
    "        SSEs.append(-1)\n",
    "        sse_change = 100\n",
    "\n",
    "        while sse_change > 1e-10:\n",
    "            new_centroids = np.zeros((k, data.shape[1]))\n",
    "            clusters[r] = {}\n",
    "            for i in range(0, k):\n",
    "                clusters[r][i] = set()\n",
    "\n",
    "            for i in range(0, data.shape[0]):        \n",
    "                for j in range(0, k):\n",
    "                    dist[j] = calc_distance(data[i], centroids[j])\n",
    "                cluster_id = np.argmin(dist)\n",
    "                clusters[r][cluster_id].add(i)\n",
    "                new_centroids[cluster_id] += data[i]\n",
    "\n",
    "            for i in range(0, k):\n",
    "                new_centroids[i] = new_centroids[i] / len(clusters[r][i])\n",
    "\n",
    "            #centroids_diff = np.sum(np.abs(centroids - new_centroids))\n",
    "            #print(centroids_diff)\n",
    "            centroids = new_centroids\n",
    "\n",
    "            new_sse = 0\n",
    "            for i in range(0, k):\n",
    "                new_sse += calc_sse(data[list(clusters[r][i]),], centroids[i])\n",
    "\n",
    "            if SSEs[r] < 0:\n",
    "                sse_change = new_sse\n",
    "            else:\n",
    "                sse_change = SSEs[r] - new_sse\n",
    "\n",
    "            SSEs[r] = new_sse\n",
    "            print('sse:', SSEs[r], 'sse_change', sse_change)\n",
    "    \n",
    "    return clusters[np.argmin(SSEs)]"
   ]
  },
  {
   "cell_type": "code",
   "execution_count": 366,
   "metadata": {},
   "outputs": [
    {
     "name": "stdout",
     "output_type": "stream",
     "text": [
      "Repeat: 0\n",
      "sse: 48911.9967339 sse_change 48911.9967339\n",
      "sse: 1841.24251939 sse_change 47070.7542145\n",
      "sse: 0.257567978235 sse_change 1840.98495141\n",
      "sse: 0.257567978235 sse_change 0.0\n",
      "Repeat: 1\n",
      "sse: 0.257567978235 sse_change 0.257567978235\n",
      "sse: 0.257567978235 sse_change 0.0\n",
      "Repeat: 2\n",
      "sse: 0.257567978235 sse_change 0.257567978235\n",
      "sse: 0.257567978235 sse_change 0.0\n",
      "Repeat: 3\n",
      "sse: 0.257567978235 sse_change 0.257567978235\n",
      "sse: 0.257567978235 sse_change 0.0\n",
      "Repeat: 4\n",
      "sse: 0.257567978235 sse_change 0.257567978235\n",
      "sse: 0.257567978235 sse_change 0.0\n",
      "Repeat: 5\n",
      "sse: 0.257567978235 sse_change 0.257567978235\n",
      "sse: 0.257567978235 sse_change 0.0\n",
      "Repeat: 6\n",
      "sse: 0.257567978235 sse_change 0.257567978235\n",
      "sse: 0.257567978235 sse_change 0.0\n",
      "Repeat: 7\n",
      "sse: 0.257567978235 sse_change 0.257567978235\n",
      "sse: 0.257567978235 sse_change 0.0\n",
      "Repeat: 8\n",
      "sse: 0.257567978235 sse_change 0.257567978235\n",
      "sse: 0.257567978235 sse_change 0.0\n",
      "Repeat: 9\n",
      "sse: 0.257567978235 sse_change 0.257567978235\n",
      "sse: 0.257567978235 sse_change 0.0\n"
     ]
    }
   ],
   "source": [
    "a=k_mean(coordinates, 3)"
   ]
  }
 ],
 "metadata": {
  "kernelspec": {
   "display_name": "Python 3",
   "language": "python",
   "name": "python3"
  },
  "language_info": {
   "codemirror_mode": {
    "name": "ipython",
    "version": 3
   },
   "file_extension": ".py",
   "mimetype": "text/x-python",
   "name": "python",
   "nbconvert_exporter": "python",
   "pygments_lexer": "ipython3",
   "version": "3.5.4"
  }
 },
 "nbformat": 4,
 "nbformat_minor": 2
}
