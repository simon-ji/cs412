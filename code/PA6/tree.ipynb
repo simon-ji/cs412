{
 "cells": [
  {
   "cell_type": "code",
   "execution_count": 124,
   "metadata": {
    "collapsed": true
   },
   "outputs": [],
   "source": [
    "import numpy as np\n",
    "import pandas as pd"
   ]
  },
  {
   "cell_type": "code",
   "execution_count": 255,
   "metadata": {},
   "outputs": [],
   "source": [
    "data = pd.read_csv('training.txt', sep=' ', header = None)\n",
    "train_label = np.array(data[0])\n",
    "train_feature = np.array(data.iloc[:,1:])\n",
    "\n",
    "for i in range(0, train_feature.shape[0]):\n",
    "    train_feature[i] = [int(d.split(':')[1]) for d in train_feature[i]]"
   ]
  },
  {
   "cell_type": "code",
   "execution_count": 165,
   "metadata": {
    "collapsed": true
   },
   "outputs": [],
   "source": [
    "data = pd.read_csv('testing.txt', sep=' ', header = None)\n",
    "test_feature = np.array(data)\n",
    "\n",
    "for i in range(0, test_feature.shape[0]):\n",
    "    test_feature[i] = [int(d.split(':')[1]) for d in test_feature[i]]"
   ]
  },
  {
   "cell_type": "code",
   "execution_count": 200,
   "metadata": {},
   "outputs": [],
   "source": [
    "def gini(feature_values, labels):\n",
    "    unique_feature_value = np.unique(feature_values)\n",
    "    unique_label_value = np.unique(labels)\n",
    "    \n",
    "    feature_value_set = {}\n",
    "    for f in unique_feature_value:\n",
    "        feature_value_set[f] = np.where(feature_values == f)[0]\n",
    "    \n",
    "    g = 0\n",
    "    for f in unique_feature_value:\n",
    "        g_f = 1\n",
    "        label_set = labels[feature_value_set[f]]\n",
    "        for l in unique_label_value:\n",
    "            p_l = np.sum(label_set == l) / len(label_set)\n",
    "            g_f -= p_l ** 2\n",
    "        \n",
    "        g += g_f * (len(label_set)/feature_values.shape[0])\n",
    "    \n",
    "    return g"
   ]
  },
  {
   "cell_type": "code",
   "execution_count": 225,
   "metadata": {},
   "outputs": [
    {
     "data": {
      "text/plain": [
       "(3000, 128)"
      ]
     },
     "execution_count": 225,
     "metadata": {},
     "output_type": "execute_result"
    }
   ],
   "source": [
    "train_feature.shape"
   ]
  },
  {
   "cell_type": "code",
   "execution_count": 292,
   "metadata": {},
   "outputs": [
    {
     "data": {
      "text/html": [
       "<div>\n",
       "<style>\n",
       "    .dataframe thead tr:only-child th {\n",
       "        text-align: right;\n",
       "    }\n",
       "\n",
       "    .dataframe thead th {\n",
       "        text-align: left;\n",
       "    }\n",
       "\n",
       "    .dataframe tbody tr th {\n",
       "        vertical-align: top;\n",
       "    }\n",
       "</style>\n",
       "<table border=\"1\" class=\"dataframe\">\n",
       "  <thead>\n",
       "    <tr style=\"text-align: right;\">\n",
       "      <th></th>\n",
       "      <th>0</th>\n",
       "      <th>1</th>\n",
       "    </tr>\n",
       "  </thead>\n",
       "  <tbody>\n",
       "    <tr>\n",
       "      <th>1</th>\n",
       "      <td>4</td>\n",
       "      <td>0:2</td>\n",
       "    </tr>\n",
       "    <tr>\n",
       "      <th>2</th>\n",
       "      <td>2</td>\n",
       "      <td>0:2</td>\n",
       "    </tr>\n",
       "  </tbody>\n",
       "</table>\n",
       "</div>"
      ],
      "text/plain": [
       "   0    1\n",
       "1  4  0:2\n",
       "2  2  0:2"
      ]
     },
     "execution_count": 292,
     "metadata": {},
     "output_type": "execute_result"
    }
   ],
   "source": [
    "data.iloc[[1,2],[0,1]]"
   ]
  },
  {
   "cell_type": "code",
   "execution_count": null,
   "metadata": {
    "collapsed": true
   },
   "outputs": [],
   "source": []
  }
 ],
 "metadata": {
  "kernelspec": {
   "display_name": "Python 3",
   "language": "python",
   "name": "python3"
  },
  "language_info": {
   "codemirror_mode": {
    "name": "ipython",
    "version": 3
   },
   "file_extension": ".py",
   "mimetype": "text/x-python",
   "name": "python",
   "nbconvert_exporter": "python",
   "pygments_lexer": "ipython3",
   "version": "3.6.3"
  }
 },
 "nbformat": 4,
 "nbformat_minor": 2
}
