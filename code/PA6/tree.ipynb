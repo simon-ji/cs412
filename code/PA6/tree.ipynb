{
 "cells": [
  {
   "cell_type": "code",
   "execution_count": 1,
   "metadata": {
    "collapsed": true
   },
   "outputs": [],
   "source": [
    "import numpy as np\n",
    "import pandas as pd"
   ]
  },
  {
   "cell_type": "code",
   "execution_count": 52,
   "metadata": {
    "collapsed": true
   },
   "outputs": [],
   "source": [
    "data = pd.read_csv('training.txt', sep=' ', header = None)\n",
    "data = np.array(data)\n",
    "train_label = np.array(data[:,0])\n",
    "\n",
    "#train_feature = np.array(data.iloc[:,1:])\n",
    "train_feature = np.ones((data.shape[0], data.shape[1]-1))\n",
    "\n",
    "for i in range(0, train_feature.shape[0]):\n",
    "    train_feature[i] = [int(d.split(':')[1]) for d in data[i][1:]]"
   ]
  },
  {
   "cell_type": "code",
   "execution_count": 70,
   "metadata": {},
   "outputs": [
    {
     "data": {
      "text/plain": [
       "2.0"
      ]
     },
     "execution_count": 70,
     "metadata": {},
     "output_type": "execute_result"
    }
   ],
   "source": [
    "#np.bincount(train_feature[1])\n",
    "from collections import Counter\n",
    "b = Counter(train_feature[:,0])\n",
    "b.most_common(2)[0][0]"
   ]
  },
  {
   "cell_type": "code",
   "execution_count": 3,
   "metadata": {
    "collapsed": true
   },
   "outputs": [],
   "source": [
    "data = pd.read_csv('testing.txt', sep=' ', header = None)\n",
    "test_feature = np.array(data)\n",
    "\n",
    "for i in range(0, test_feature.shape[0]):\n",
    "    test_feature[i] = [int(d.split(':')[1]) for d in test_feature[i]]"
   ]
  },
  {
   "cell_type": "code",
   "execution_count": 4,
   "metadata": {
    "collapsed": true
   },
   "outputs": [],
   "source": [
    "def gini(feature_values, labels):\n",
    "    unique_feature_value = np.unique(feature_values)\n",
    "    unique_label_value = np.unique(labels)\n",
    "    \n",
    "    feature_value_set = {}\n",
    "    for f in unique_feature_value:\n",
    "        feature_value_set[f] = np.where(feature_values == f)[0]\n",
    "    \n",
    "    g = 0\n",
    "    for f in unique_feature_value:\n",
    "        g_f = 1\n",
    "        label_set = labels[feature_value_set[f]]\n",
    "        for l in unique_label_value:\n",
    "            p_l = np.sum(label_set == l) / len(label_set)\n",
    "            g_f -= p_l ** 2\n",
    "        \n",
    "        g += g_f * (len(label_set)/feature_values.shape[0])\n",
    "    \n",
    "    return g"
   ]
  },
  {
   "cell_type": "code",
   "execution_count": 17,
   "metadata": {},
   "outputs": [
    {
     "data": {
      "text/plain": [
       "array([2, 3, 2, 1, 2, 3, 2, 3, 2, 2, 2, 2, 2, 1, 2, 2, 2, 2, 2, 1, 1, 1, 2,\n",
       "       2, 1, 3, 1, 3, 2, 2, 2, 2, 2, 2, 2, 2, 2, 2, 2, 2, 2, 3, 2, 1, 1, 2,\n",
       "       2, 2, 2, 1, 3, 2, 3, 3, 1, 2, 2, 3, 1, 3, 2, 2, 3, 1, 2, 2, 2, 1, 2,\n",
       "       3, 2, 3, 2, 2, 2, 2, 2, 1, 1, 2, 2, 1, 2, 1, 1, 1, 3, 2, 2, 3, 1, 3,\n",
       "       2, 2, 2, 2, 2, 2, 2, 2, 2, 2, 2, 2, 2, 3, 2, 1, 1, 2, 2, 2, 2, 1, 3,\n",
       "       2, 3, 2, 1, 1, 2, 3, 1, 3, 2, 3, 3, 1], dtype=object)"
      ]
     },
     "execution_count": 17,
     "metadata": {},
     "output_type": "execute_result"
    }
   ],
   "source": [
    "#np.bincount([1,2,3,1])\n",
    "\n",
    "train_feature[1]"
   ]
  },
  {
   "cell_type": "code",
   "execution_count": 315,
   "metadata": {
    "collapsed": true
   },
   "outputs": [],
   "source": [
    "b=np.zeros((train_feature.shape[0], train_feature.shape[1] + 1))\n",
    "b[:,0] = [i for i in range(0, train_feature.shape[0])]\n",
    "b[:,1:] = train_feature"
   ]
  },
  {
   "cell_type": "code",
   "execution_count": 319,
   "metadata": {},
   "outputs": [
    {
     "data": {
      "text/plain": [
       "array([  0.00000000e+00,   1.00000000e+00,   2.00000000e+00, ...,\n",
       "         2.99700000e+03,   2.99800000e+03,   2.99900000e+03])"
      ]
     },
     "execution_count": 319,
     "metadata": {},
     "output_type": "execute_result"
    }
   ],
   "source": [
    "b[:,0]"
   ]
  },
  {
   "cell_type": "code",
   "execution_count": 367,
   "metadata": {},
   "outputs": [
    {
     "data": {
      "text/plain": [
       "(591, 128)"
      ]
     },
     "execution_count": 367,
     "metadata": {},
     "output_type": "execute_result"
    }
   ],
   "source": [
    "train_feature[train_feature[:,0]==3].shape"
   ]
  },
  {
   "cell_type": "code",
   "execution_count": 331,
   "metadata": {
    "collapsed": true
   },
   "outputs": [],
   "source": [
    "a=np.hstack(([[i] for i in range(0, train_feature.shape[0])], train_feature))"
   ]
  },
  {
   "cell_type": "code",
   "execution_count": 382,
   "metadata": {},
   "outputs": [
    {
     "data": {
      "text/plain": [
       "{1: [], 2: []}"
      ]
     },
     "execution_count": 382,
     "metadata": {},
     "output_type": "execute_result"
    }
   ],
   "source": [
    "{i:[] for i in [1,2]} "
   ]
  },
  {
   "cell_type": "code",
   "execution_count": null,
   "metadata": {
    "collapsed": true
   },
   "outputs": [],
   "source": []
  }
 ],
 "metadata": {
  "kernelspec": {
   "display_name": "Python 3",
   "language": "python",
   "name": "python3"
  },
  "language_info": {
   "codemirror_mode": {
    "name": "ipython",
    "version": 3
   },
   "file_extension": ".py",
   "mimetype": "text/x-python",
   "name": "python",
   "nbconvert_exporter": "python",
   "pygments_lexer": "ipython3",
   "version": "3.6.3"
  }
 },
 "nbformat": 4,
 "nbformat_minor": 2
}
