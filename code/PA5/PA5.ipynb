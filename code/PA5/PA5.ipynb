{
 "cells": [
  {
   "cell_type": "code",
   "execution_count": 1,
   "metadata": {
    "collapsed": true
   },
   "outputs": [],
   "source": [
    "import pandas as pd\n",
    "import numpy as np\n",
    "\n",
    "ground_truth = pd.read_csv('data/partitions.txt',header=None, sep = ' ')\n",
    "cluster1 = pd.read_csv('data/clustering_1.txt',header=None, sep = ' ')\n",
    "cluster2 = pd.read_csv('data/clustering_2.txt',header=None, sep = ' ')\n",
    "cluster3 = pd.read_csv('data/clustering_3.txt',header=None, sep = ' ')\n",
    "cluster4 = pd.read_csv('data/clustering_4.txt',header=None, sep = ' ')\n",
    "cluster5 = pd.read_csv('data/clustering_5.txt',header=None, sep = ' ')"
   ]
  },
  {
   "cell_type": "code",
   "execution_count": 43,
   "metadata": {},
   "outputs": [],
   "source": [
    "from operator import mul    # or mul=lambda x,y:x*y\n",
    "from fractions import Fraction\n",
    "from functools import reduce\n",
    "\n",
    "def entropy(data):\n",
    "    n = len(data)\n",
    "    value = 0\n",
    "    for i in np.unique(data):\n",
    "        p = len(data[data == i]) / n\n",
    "        value += - p * np.log2(p)\n",
    "    return value\n",
    "    \n",
    "def NMI(C, T):\n",
    "    score = 0\n",
    "    n = len(C)\n",
    "    H_C = entropy(C[1])\n",
    "    H_T = entropy(T[1])\n",
    "    \n",
    "    C_Cluster = np.unique(C[1])\n",
    "    T_Cluster = np.unique(T[1])\n",
    "    pC = [len(C[C[1] == i]) / n for i in C_Cluster]\n",
    "    pT = [len(T[T[1] == i]) / n for i in T_Cluster]\n",
    "    for i in range(0, len(pC)):\n",
    "        Ci = C[C[1] == C_Cluster[i]]\n",
    "        Ti = T.loc[Ci.index]\n",
    "        for j in range(0, len(pT)):\n",
    "            p_ij = len(Ti[Ti[1] == T_Cluster[j]]) / n\n",
    "            if p_ij > 0:\n",
    "                score += p_ij * np.log2(p_ij / (pC[i] * pT[j]))\n",
    "    \n",
    "    score /= np.sqrt(H_C * H_T)\n",
    "    \n",
    "    return score\n",
    "\n",
    "def nCk(n,k):\n",
    "    return int( reduce(mul, (Fraction(n-i, i+1) for i in range(k)), 1) )\n",
    "\n",
    "def Jaccard(C, T):\n",
    "    n = len(C)\n",
    "    C_Cluster = np.unique(C[1])\n",
    "    T_Cluster = np.unique(T[1])\n",
    "    \n",
    "    TP = 0\n",
    "    for i in C_Cluster:\n",
    "        Ci = C[C[1] == i]\n",
    "        Ti = T.loc[Ci.index]\n",
    "        for j in T_Cluster:\n",
    "            n_ij = len(Ti[Ti[1] == j])\n",
    "            TP += n_ij ** 2\n",
    "    TP = (TP - n) / 2\n",
    "    \n",
    "    FN = 0\n",
    "    for j in T_Cluster:\n",
    "        m_j = len(T[T[1] == j])\n",
    "        FN += nCk(m_j, 2)\n",
    "    FN -= TP\n",
    "    \n",
    "    FP = 0\n",
    "    for i in C_Cluster:\n",
    "        n_i = len(C[C[1] == i])\n",
    "        FP += nCk(n_i, 2)\n",
    "    FP -= TP\n",
    "    \n",
    "    return TP / (TP + FN + FP)"
   ]
  },
  {
   "cell_type": "code",
   "execution_count": 52,
   "metadata": {},
   "outputs": [
    {
     "name": "stdout",
     "output_type": "stream",
     "text": [
      "0.8896 0.9117\n",
      "0.6456 0.6795\n",
      "0.3915 0.4649\n",
      "0.7678 0.8006\n",
      "0.7612 0.5976\n"
     ]
    }
   ],
   "source": [
    "print(\"%1.4f %1.4f\"%(NMI(cluster1, ground_truth), Jaccard(cluster1, ground_truth)))\n",
    "print(\"%1.4f %1.4f\"%(NMI(cluster2, ground_truth), Jaccard(cluster2, ground_truth)))\n",
    "print(\"%1.4f %1.4f\"%(NMI(cluster3, ground_truth), Jaccard(cluster3, ground_truth)))\n",
    "print(\"%1.4f %1.4f\"%(NMI(cluster4, ground_truth), Jaccard(cluster4, ground_truth)))\n",
    "print(\"%1.4f %1.4f\"%(NMI(cluster5, ground_truth), Jaccard(cluster5, ground_truth)))"
   ]
  }
 ],
 "metadata": {
  "kernelspec": {
   "display_name": "Python 3",
   "language": "python",
   "name": "python3"
  },
  "language_info": {
   "codemirror_mode": {
    "name": "ipython",
    "version": 3
   },
   "file_extension": ".py",
   "mimetype": "text/x-python",
   "name": "python",
   "nbconvert_exporter": "python",
   "pygments_lexer": "ipython3",
   "version": "3.6.3"
  }
 },
 "nbformat": 4,
 "nbformat_minor": 2
}
