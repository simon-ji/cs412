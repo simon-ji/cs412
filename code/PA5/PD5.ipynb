{
 "cells": [
  {
   "cell_type": "code",
   "execution_count": 1,
   "metadata": {
    "collapsed": true
   },
   "outputs": [],
   "source": [
    "import pandas as pd\n",
    "import numpy as np\n",
    "\n",
    "ground_truth = pd.read_csv('data/partitions.txt',header=None, sep = ' ')\n",
    "cluster1 = pd.read_csv('data/clustering_1.txt',header=None, sep = ' ')\n",
    "cluster2 = pd.read_csv('data/clustering_2.txt',header=None, sep = ' ')\n",
    "cluster3 = pd.read_csv('data/clustering_3.txt',header=None, sep = ' ')\n",
    "cluster4 = pd.read_csv('data/clustering_4.txt',header=None, sep = ' ')\n",
    "cluster5 = pd.read_csv('data/clustering_5.txt',header=None, sep = ' ')"
   ]
  },
  {
   "cell_type": "code",
   "execution_count": 81,
   "metadata": {},
   "outputs": [],
   "source": [
    "def entropy(data):\n",
    "    n = len(data)\n",
    "    value = 0\n",
    "    for i in np.unique(data):\n",
    "        p = len(data[data == i]) / n\n",
    "        value += - p * np.log2(p)\n",
    "    return value\n",
    "    \n",
    "def NMI(C, T):\n",
    "    score = 0\n",
    "    n = len(C)\n",
    "    H_C = entropy(C[1])\n",
    "    H_T = entropy(T[1])\n",
    "    \n",
    "    C_Cluster = np.unique(C[1])\n",
    "    T_Cluster = np.unique(T[1])\n",
    "    pC = [len(C[C[1] == i]) / n for i in C_Cluster]\n",
    "    pT = [len(T[T[1] == i]) / n for i in T_Cluster]\n",
    "    for i in range(0, len(pC)):\n",
    "        Ci = C[C[1] == C_Cluster[i]]\n",
    "        Ti = T.loc[Ci.index]\n",
    "        for j in range(0, len(pT)):\n",
    "            p_ij = len(Ti[Ti[1] == T_Cluster[j]]) / n\n",
    "            if p_ij > 0:\n",
    "                score += p_ij * np.log2(p_ij / (pC[i] * pT[j]))\n",
    "    \n",
    "    score /= np.sqrt(H_C * H_T)\n",
    "    \n",
    "    return score\n",
    "\n",
    "def Jaccard(C, T):\n",
    "    score = 0\n",
    "    \n",
    "    return score"
   ]
  }
 ],
 "metadata": {
  "kernelspec": {
   "display_name": "Python 3",
   "language": "python",
   "name": "python3"
  },
  "language_info": {
   "codemirror_mode": {
    "name": "ipython",
    "version": 3
   },
   "file_extension": ".py",
   "mimetype": "text/x-python",
   "name": "python",
   "nbconvert_exporter": "python",
   "pygments_lexer": "ipython3",
   "version": "3.5.4"
  }
 },
 "nbformat": 4,
 "nbformat_minor": 2
}
