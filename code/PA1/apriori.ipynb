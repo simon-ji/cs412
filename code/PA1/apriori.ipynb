{
 "cells": [
  {
   "cell_type": "code",
   "execution_count": 2,
   "metadata": {},
   "outputs": [],
   "source": [
    "import pandas as pd"
   ]
  },
  {
   "cell_type": "code",
   "execution_count": 5,
   "metadata": {},
   "outputs": [],
   "source": [
    "lines = list(open('categories.txt'))"
   ]
  },
  {
   "cell_type": "code",
   "execution_count": 53,
   "metadata": {},
   "outputs": [],
   "source": [
    "cate_dict = {}\n",
    "cate_list = []\n",
    "cate_lines = []\n",
    "\n",
    "i = 0\n",
    "with open('categories.txt') as f:    \n",
    "    for line in f.read().splitlines():\n",
    "        cate_index = []\n",
    "        for word in line.split(';'):\n",
    "            if word not in cate_dict:                \n",
    "                cate_dict[word] = i\n",
    "                word_index = i\n",
    "                cate_list.append(word)\n",
    "                i += 1\n",
    "            else:\n",
    "                word_index = cate_dict[word]\n",
    "            cate_index.append(word_index)\n",
    "        \n",
    "        cate_lines.append(cate_index)"
   ]
  }
 ],
 "metadata": {
  "kernelspec": {
   "display_name": "Python 3",
   "language": "python",
   "name": "python3"
  },
  "language_info": {
   "codemirror_mode": {
    "name": "ipython",
    "version": 3
   },
   "file_extension": ".py",
   "mimetype": "text/x-python",
   "name": "python",
   "nbconvert_exporter": "python",
   "pygments_lexer": "ipython3",
   "version": "3.5.4"
  }
 },
 "nbformat": 4,
 "nbformat_minor": 2
}
