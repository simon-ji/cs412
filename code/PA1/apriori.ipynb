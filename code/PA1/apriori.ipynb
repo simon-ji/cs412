{
 "cells": [
  {
   "cell_type": "code",
   "execution_count": 1,
   "metadata": {
    "collapsed": true
   },
   "outputs": [],
   "source": [
    "import pandas as pd"
   ]
  },
  {
   "cell_type": "code",
   "execution_count": 2,
   "metadata": {
    "collapsed": true
   },
   "outputs": [],
   "source": [
    "lines = list(open('categories.txt'))"
   ]
  },
  {
   "cell_type": "code",
   "execution_count": 23,
   "metadata": {},
   "outputs": [],
   "source": [
    "cate_dict = {}\n",
    "cate_list = []\n",
    "cate_lines = []\n",
    "\n",
    "i = 0\n",
    "with open('categories.txt') as f:    \n",
    "    for line in f.read().splitlines():\n",
    "        cate_index = []\n",
    "        for word in line.split(';'):\n",
    "            if word not in cate_dict:                \n",
    "                cate_dict[word] = i\n",
    "                word_index = i\n",
    "                cate_list.append(word)\n",
    "                i += 1\n",
    "            else:\n",
    "                word_index = cate_dict[word]\n",
    "            cate_index.append(word_index)\n",
    "        \n",
    "        cate_lines.append(set(cate_index))"
   ]
  },
  {
   "cell_type": "code",
   "execution_count": 195,
   "metadata": {},
   "outputs": [],
   "source": [
    "MIN_SUPPORT = len(cate_lines) * 0.01\n",
    "\n",
    "def get_support(all_cates, sub_cates):\n",
    "    support = 0\n",
    "    for cate in all_cates:\n",
    "        if cate.issuperset(sub_cates):\n",
    "            support += 1\n",
    "    \n",
    "    return support\n",
    "\n",
    "L = []\n",
    "S = []\n",
    "L1 = []\n",
    "S1 = []\n",
    "for cate in range(0, len(cate_list)):\n",
    "    s = get_support(cate_lines, [cate])    \n",
    "    if(s >= MIN_SUPPORT):\n",
    "        L1.append([cate])\n",
    "        S1.append(s)\n",
    "\n",
    "L.append(L1)\n",
    "S.append(S1)"
   ]
  },
  {
   "cell_type": "code",
   "execution_count": 196,
   "metadata": {},
   "outputs": [],
   "source": [
    " def apriori_gen(all_cates, LK_1, min_support):\n",
    "    LK = []\n",
    "    S = []\n",
    "    for l1 in LK_1:\n",
    "        for l2 in LK_1:\n",
    "            if l1[:-1] == l2[:-1] and l1[-1] != l2[-1]:\n",
    "                l = l1 + [l2[-1]]\n",
    "                support = get_support(all_cates, l)\n",
    "                if support >= min_support:\n",
    "                    LK.append(l)\n",
    "                    S.append(support)\n",
    "    \n",
    "    return LK, S"
   ]
  },
  {
   "cell_type": "code",
   "execution_count": 197,
   "metadata": {},
   "outputs": [
    {
     "name": "stdout",
     "output_type": "stream",
     "text": [
      "Working on 1-Itemsets\n",
      "Working on 2-Itemsets\n",
      "Working on 3-Itemsets\n"
     ]
    }
   ],
   "source": [
    "LK_1 = L1\n",
    "while len(LK_1) > 0:\n",
    "    print(\"Working on %d-Itemsets\" % len(LK_1[0]))\n",
    "    LK_1, SK_1 = apriori_gen(cate_lines, LK_1, MIN_SUPPORT)\n",
    "    if (len(LK_1) > 0):\n",
    "        L.append(LK_1)\n",
    "        S.append(SK_1)"
   ]
  },
  {
   "cell_type": "code",
   "execution_count": 199,
   "metadata": {},
   "outputs": [],
   "source": [
    "with open('patterns_1.txt', 'w') as f:\n",
    "    for i in range(0, len(L[0])):\n",
    "        f.write(\"%d:%s\"%(S[0][i],cate_list[L[0][i][0]]))\n",
    "        f.write(\"\\n\")"
   ]
  },
  {
   "cell_type": "code",
   "execution_count": 206,
   "metadata": {},
   "outputs": [],
   "source": [
    "with open('patterns_2.txt', 'w') as f:\n",
    "    for i in range(0, len(L)):\n",
    "        for j in range(0, len(L[i])):\n",
    "            f.write(\"%d:%s\"%(S[i][j], cate_list[L[i][j][0]]))\n",
    "            for k in range(1, i + 1):\n",
    "                f.write(\";%s\"%cate_list[L[i][j][k]])\n",
    "            f.write(\"\\n\")"
   ]
  }
 ],
 "metadata": {
  "kernelspec": {
   "display_name": "Python 3",
   "language": "python",
   "name": "python3"
  },
  "language_info": {
   "codemirror_mode": {
    "name": "ipython",
    "version": 3
   },
   "file_extension": ".py",
   "mimetype": "text/x-python",
   "name": "python",
   "nbconvert_exporter": "python",
   "pygments_lexer": "ipython3",
   "version": "3.5.4"
  }
 },
 "nbformat": 4,
 "nbformat_minor": 2
}
