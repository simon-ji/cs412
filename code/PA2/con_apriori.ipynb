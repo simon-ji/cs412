{
 "cells": [
  {
   "cell_type": "code",
   "execution_count": 156,
   "metadata": {
    "collapsed": true
   },
   "outputs": [],
   "source": [
    "def KnuthMorrisPratt(text, pattern):\n",
    "\n",
    "    '''Yields all starting positions of copies of the pattern in the text.\n",
    "Calling conventions are similar to string.find, but its arguments can be\n",
    "lists or iterators, not just strings, it returns all matches, not just\n",
    "the first one, and it does not need the whole text in memory at once.\n",
    "Whenever it yields, it will have read the text exactly up to and including\n",
    "the match that caused the yield.'''\n",
    "\n",
    "    # allow indexing into pattern and protect against change during yield\n",
    "    pattern = list(pattern)\n",
    "\n",
    "    # build table of shift amounts\n",
    "    shifts = [1] * (len(pattern) + 1)\n",
    "    shift = 1\n",
    "    for pos in range(len(pattern)):\n",
    "        while shift <= pos and pattern[pos] != pattern[pos-shift]:\n",
    "            shift += shifts[pos-shift]\n",
    "        shifts[pos+1] = shift\n",
    "\n",
    "    print(shifts)\n",
    "    # do the actual search\n",
    "    startPos = 0\n",
    "    matchLen = 0\n",
    "    for c in text:\n",
    "        while matchLen == len(pattern) or \\\n",
    "              matchLen >= 0 and pattern[matchLen] != c:\n",
    "            startPos += shifts[matchLen]\n",
    "            matchLen -= shifts[matchLen]\n",
    "        matchLen += 1\n",
    "        if matchLen == len(pattern):\n",
    "            yield startPos\n",
    "\n",
    "def search_list(text, pattern):\n",
    "    matchLen = len(pattern)\n",
    "    for i in range(len(text) - matchLen + 1):\n",
    "        startPos = 0\n",
    "        while(startPos < matchLen and text[i + startPos] == pattern[startPos]):\n",
    "            startPos += 1\n",
    "        #if (text[i:i+matchLen] == pattern): return i\n",
    "        if (startPos == matchLen): return i\n",
    "    \n",
    "    return -1"
   ]
  },
  {
   "cell_type": "code",
   "execution_count": 33,
   "metadata": {
    "collapsed": true
   },
   "outputs": [],
   "source": [
    "vocab_dict = {}\n",
    "vocab_list = []\n",
    "review_lines = []\n",
    "\n",
    "i = 0\n",
    "#with open('reviews_test.txt') as f:\n",
    "with open('reviews_sample.txt') as f: \n",
    "    for line in f.read().splitlines():\n",
    "        vocab_index = \"\"\n",
    "        for word in line.split(' '):\n",
    "            if word not in vocab_dict:                \n",
    "                vocab_dict[word] = i\n",
    "                word_index = i\n",
    "                vocab_list.append(word)\n",
    "                i += 1\n",
    "            else:\n",
    "                word_index = vocab_dict[word]\n",
    "            \n",
    "            vocab_index += \":\" + str(word_index)\n",
    "        \n",
    "        vocab_index += \":\"\n",
    "        review_lines.append(vocab_index)"
   ]
  },
  {
   "cell_type": "code",
   "execution_count": 34,
   "metadata": {},
   "outputs": [
    {
     "name": "stderr",
     "output_type": "stream",
     "text": [
      "100%|███████████████████████████████████████████████████████████████████████████| 22104/22104 [02:21<00:00, 156.42it/s]\n"
     ]
    }
   ],
   "source": [
    "from tqdm import tqdm\n",
    "\n",
    "MIN_SUPPORT = len(review_lines) * 0.01\n",
    "\n",
    "def get_support(all_reviews, pattern):\n",
    "    str_pattern = \"\"\n",
    "    for i in pattern:\n",
    "        str_pattern += \":\" + str(i)\n",
    "    str_pattern += \":\"\n",
    "    \n",
    "    support = 0\n",
    "    \n",
    "    for review in all_reviews:\n",
    "        #if search_list(review, pattern) >= 0:\n",
    "        if review.find(str_pattern) >= 0:\n",
    "            support += 1\n",
    "    \n",
    "    return support\n",
    "\n",
    "L = []\n",
    "S = []\n",
    "L1 = []\n",
    "S1 = []\n",
    "for vocab in tqdm(range(len(vocab_list))):\n",
    "    s = get_support(review_lines, [vocab])    \n",
    "    if(s >= MIN_SUPPORT):\n",
    "        L1.append([vocab])\n",
    "        S1.append(s)\n",
    "\n",
    "L.append(L1)\n",
    "S.append(S1)"
   ]
  },
  {
   "cell_type": "code",
   "execution_count": 35,
   "metadata": {},
   "outputs": [
    {
     "data": {
      "text/plain": [
       "977"
      ]
     },
     "execution_count": 35,
     "metadata": {},
     "output_type": "execute_result"
    }
   ],
   "source": [
    "len(L1)"
   ]
  },
  {
   "cell_type": "code",
   "execution_count": 46,
   "metadata": {
    "collapsed": true
   },
   "outputs": [],
   "source": [
    " def apriori_gen(all_lines, LK_1, min_support):\n",
    "    LK = []\n",
    "    S = []\n",
    "    for l1 in tqdm(LK_1):\n",
    "        for l2 in LK_1:\n",
    "            if l1[:-1] == l2[:-1]: #and l1[-1] < l2[-1]:\n",
    "                l = l1 + [l2[-1]]\n",
    "                support = get_support(all_lines, l)\n",
    "                if support >= min_support:\n",
    "                    print(l)\n",
    "                    print(support)\n",
    "                    print([vocab_list[i] for i in l])\n",
    "                    LK.append(l)\n",
    "                    S.append(support)\n",
    "    \n",
    "    return LK, S"
   ]
  },
  {
   "cell_type": "code",
   "execution_count": 47,
   "metadata": {},
   "outputs": [
    {
     "name": "stdout",
     "output_type": "stream",
     "text": [
      "Working on 1-Itemsets\n"
     ]
    },
    {
     "name": "stderr",
     "output_type": "stream",
     "text": [
      "  0%|▎                                                                               | 4/977 [00:22<1:31:13,  5.63s/it]"
     ]
    },
    {
     "name": "stdout",
     "output_type": "stream",
     "text": [
      "[7, 8]\n",
      "170\n",
      "['year', 'ago']\n"
     ]
    },
    {
     "name": "stderr",
     "output_type": "stream",
     "text": [
      "  1%|▊                                                                              | 10/977 [00:56<1:32:52,  5.76s/it]"
     ]
    },
    {
     "name": "stdout",
     "output_type": "stream",
     "text": [
      "[16, 32]\n",
      "246\n",
      "['food', 'good']\n",
      "[16, 39]\n",
      "118\n",
      "['food', 'service']\n",
      "[16, 45]\n",
      "163\n",
      "['food', 'great']\n"
     ]
    },
    {
     "name": "stderr",
     "output_type": "stream",
     "text": [
      "  2%|█▊                                                                             | 23/977 [02:10<1:29:29,  5.63s/it]"
     ]
    },
    {
     "name": "stdout",
     "output_type": "stream",
     "text": [
      "[32, 16]\n",
      "205\n",
      "['good', 'food']\n",
      "[32, 39]\n",
      "147\n",
      "['good', 'service']\n",
      "[32, 46]\n",
      "109\n",
      "['good', 'place']\n",
      "[32, 77]\n",
      "108\n",
      "['good', 'thing']\n"
     ]
    },
    {
     "name": "stderr",
     "output_type": "stream",
     "text": [
      "  3%|██                                                                             | 26/977 [02:26<1:29:06,  5.62s/it]"
     ]
    },
    {
     "name": "stdout",
     "output_type": "stream",
     "text": [
      "[38, 39]\n",
      "209\n",
      "['customer', 'service']\n"
     ]
    },
    {
     "name": "stderr",
     "output_type": "stream",
     "text": [
      "\r",
      "  3%|██▏                                                                            | 27/977 [02:32<1:28:48,  5.61s/it]"
     ]
    },
    {
     "name": "stdout",
     "output_type": "stream",
     "text": [
      "[39, 32]\n",
      "128\n",
      "['service', 'good']\n",
      "[39, 45]\n",
      "135\n",
      "['service', 'great']\n"
     ]
    },
    {
     "name": "stderr",
     "output_type": "stream",
     "text": [
      "  3%|██▌                                                                            | 32/977 [03:00<1:27:02,  5.53s/it]"
     ]
    },
    {
     "name": "stdout",
     "output_type": "stream",
     "text": [
      "[45, 16]\n",
      "151\n",
      "['great', 'food']\n",
      "[45, 39]\n",
      "153\n",
      "['great', 'service']\n",
      "[45, 46]\n",
      "273\n",
      "['great', 'place']\n"
     ]
    },
    {
     "name": "stderr",
     "output_type": "stream",
     "text": [
      "\r",
      "  3%|██▋                                                                            | 33/977 [03:05<1:27:24,  5.56s/it]"
     ]
    },
    {
     "name": "stdout",
     "output_type": "stream",
     "text": [
      "[46, 5]\n",
      "104\n",
      "['place', 'like']\n",
      "[46, 250]\n",
      "131\n",
      "['place', 'get']\n"
     ]
    },
    {
     "name": "stderr",
     "output_type": "stream",
     "text": [
      "  4%|███                                                                            | 38/977 [03:33<1:27:22,  5.58s/it]"
     ]
    },
    {
     "name": "stdout",
     "output_type": "stream",
     "text": [
      "[54, 93]\n",
      "154\n",
      "['staff', 'friendly']\n"
     ]
    },
    {
     "name": "stderr",
     "output_type": "stream",
     "text": [
      "  4%|███▍                                                                           | 42/977 [03:55<1:26:27,  5.55s/it]"
     ]
    },
    {
     "name": "stdout",
     "output_type": "stream",
     "text": [
      "[58, 309]\n",
      "211\n",
      "['make', 'sure']\n"
     ]
    },
    {
     "name": "stderr",
     "output_type": "stream",
     "text": [
      "  5%|███▊                                                                           | 47/977 [04:23<1:25:58,  5.55s/it]"
     ]
    },
    {
     "name": "stdout",
     "output_type": "stream",
     "text": [
      "[65, 66]\n",
      "220\n",
      "['ice', 'cream']\n"
     ]
    },
    {
     "name": "stderr",
     "output_type": "stream",
     "text": [
      "  5%|███▉                                                                           | 49/977 [04:34<1:25:05,  5.50s/it]"
     ]
    },
    {
     "name": "stdout",
     "output_type": "stream",
     "text": [
      "[67, 32]\n",
      "274\n",
      "['really', 'good']\n",
      "[67, 91]\n",
      "111\n",
      "['really', 'nice']\n"
     ]
    },
    {
     "name": "stderr",
     "output_type": "stream",
     "text": [
      "  6%|████▉                                                                          | 61/977 [05:40<1:23:58,  5.50s/it]"
     ]
    },
    {
     "name": "stdout",
     "output_type": "stream",
     "text": [
      "[89, 16]\n",
      "110\n",
      "['whole', 'food']\n"
     ]
    },
    {
     "name": "stderr",
     "output_type": "stream",
     "text": [
      "  7%|█████▎                                                                         | 65/977 [06:02<1:24:22,  5.55s/it]"
     ]
    },
    {
     "name": "stdout",
     "output_type": "stream",
     "text": [
      "[93, 54]\n",
      "101\n",
      "['friendly', 'staff']\n"
     ]
    },
    {
     "name": "stderr",
     "output_type": "stream",
     "text": [
      "  7%|█████▋                                                                         | 70/977 [06:30<1:22:43,  5.47s/it]"
     ]
    },
    {
     "name": "stdout",
     "output_type": "stream",
     "text": [
      "[101, 128]\n",
      "130\n",
      "['would', 'definitely']\n",
      "[101, 177]\n",
      "133\n",
      "['would', 'recommend']\n"
     ]
    },
    {
     "name": "stderr",
     "output_type": "stream",
     "text": [
      "\r",
      "  7%|█████▋                                                                         | 71/977 [06:36<1:23:57,  5.56s/it]"
     ]
    },
    {
     "name": "stdout",
     "output_type": "stream",
     "text": [
      "[102, 46]\n",
      "178\n",
      "['love', 'place']\n"
     ]
    },
    {
     "name": "stderr",
     "output_type": "stream",
     "text": [
      " 10%|███████▌                                                                       | 93/977 [08:46<1:28:27,  6.00s/it]"
     ]
    },
    {
     "name": "stdout",
     "output_type": "stream",
     "text": [
      "[128, 391]\n",
      "140\n",
      "['definitely', 'back']\n"
     ]
    },
    {
     "name": "stderr",
     "output_type": "stream",
     "text": [
      "\r",
      " 10%|███████▌                                                                       | 94/977 [08:52<1:28:29,  6.01s/it]"
     ]
    },
    {
     "name": "stdout",
     "output_type": "stream",
     "text": [
      "[129, 391]\n",
      "237\n",
      "['come', 'back']\n"
     ]
    },
    {
     "name": "stderr",
     "output_type": "stream",
     "text": [
      " 11%|████████▎                                                                     | 104/977 [09:52<1:27:22,  6.00s/it]"
     ]
    },
    {
     "name": "stdout",
     "output_type": "stream",
     "text": [
      "[140, 32]\n",
      "355\n",
      "['pretty', 'good']\n",
      "[140, 141]\n",
      "141\n",
      "['pretty', 'much']\n"
     ]
    },
    {
     "name": "stderr",
     "output_type": "stream",
     "text": [
      "\r",
      " 11%|████████▍                                                                     | 105/977 [09:58<1:27:06,  5.99s/it]"
     ]
    },
    {
     "name": "stdout",
     "output_type": "stream",
     "text": [
      "[141, 122]\n",
      "162\n",
      "['much', 'better']\n"
     ]
    },
    {
     "name": "stderr",
     "output_type": "stream",
     "text": [
      " 11%|████████▌                                                                     | 107/977 [10:10<1:26:57,  6.00s/it]"
     ]
    },
    {
     "name": "stdout",
     "output_type": "stream",
     "text": [
      "[143, 1500]\n",
      "125\n",
      "['hot', 'dog']\n"
     ]
    },
    {
     "name": "stderr",
     "output_type": "stream",
     "text": [
      " 12%|█████████                                                                     | 113/977 [10:46<1:26:17,  5.99s/it]"
     ]
    },
    {
     "name": "stdout",
     "output_type": "stream",
     "text": [
      "[151, 152]\n",
      "107\n",
      "['fish', 'sandwich']\n"
     ]
    },
    {
     "name": "stderr",
     "output_type": "stream",
     "text": [
      " 12%|█████████▌                                                                    | 120/977 [11:28<1:25:32,  5.99s/it]"
     ]
    },
    {
     "name": "stdout",
     "output_type": "stream",
     "text": [
      "[158, 15]\n",
      "201\n",
      "['beer', 'selection']\n"
     ]
    },
    {
     "name": "stderr",
     "output_type": "stream",
     "text": [
      " 14%|██████████▊                                                                   | 136/977 [13:03<1:23:45,  5.98s/it]"
     ]
    },
    {
     "name": "stdout",
     "output_type": "stream",
     "text": [
      "[176, 177]\n",
      "215\n",
      "['highly', 'recommend']\n"
     ]
    },
    {
     "name": "stderr",
     "output_type": "stream",
     "text": [
      " 14%|███████████▎                                                                  | 141/977 [13:32<1:21:49,  5.87s/it]"
     ]
    },
    {
     "name": "stdout",
     "output_type": "stream",
     "text": [
      "[183, 108]\n",
      "323\n",
      "['first', 'time']\n"
     ]
    },
    {
     "name": "stderr",
     "output_type": "stream",
     "text": [
      " 18%|██████████████▎                                                               | 180/977 [17:20<1:18:10,  5.88s/it]"
     ]
    },
    {
     "name": "stdout",
     "output_type": "stream",
     "text": [
      "[248, 391]\n",
      "152\n",
      "['going', 'back']\n"
     ]
    },
    {
     "name": "stderr",
     "output_type": "stream",
     "text": [
      " 20%|███████████████▍                                                              | 194/977 [18:42<1:16:06,  5.83s/it]"
     ]
    },
    {
     "name": "stdout",
     "output_type": "stream",
     "text": [
      "[275, 368]\n",
      "253\n",
      "['even', 'though']\n"
     ]
    },
    {
     "name": "stderr",
     "output_type": "stream",
     "text": [
      " 21%|████████████████▏                                                             | 202/977 [19:29<1:14:59,  5.81s/it]"
     ]
    },
    {
     "name": "stdout",
     "output_type": "stream",
     "text": [
      "[290, 5]\n",
      "175\n",
      "['look', 'like']\n"
     ]
    },
    {
     "name": "stderr",
     "output_type": "stream",
     "text": [
      " 22%|████████████████▊                                                             | 211/977 [20:20<1:13:14,  5.74s/it]"
     ]
    },
    {
     "name": "stdout",
     "output_type": "stream",
     "text": [
      "[313, 5601]\n",
      "153\n",
      "['strip', 'district']\n"
     ]
    },
    {
     "name": "stderr",
     "output_type": "stream",
     "text": [
      " 23%|█████████████████▊                                                            | 223/977 [21:30<1:12:17,  5.75s/it]"
     ]
    },
    {
     "name": "stdout",
     "output_type": "stream",
     "text": [
      "[333, 86]\n",
      "139\n",
      "['last', 'night']\n",
      "[333, 108]\n",
      "155\n",
      "['last', 'time']\n"
     ]
    },
    {
     "name": "stderr",
     "output_type": "stream",
     "text": [
      " 25%|███████████████████▊                                                          | 248/977 [23:54<1:10:32,  5.81s/it]"
     ]
    },
    {
     "name": "stdout",
     "output_type": "stream",
     "text": [
      "[374, 780]\n",
      "113\n",
      "['across', 'street']\n"
     ]
    },
    {
     "name": "stderr",
     "output_type": "stream",
     "text": [
      " 26%|████████████████████                                                          | 251/977 [24:11<1:10:01,  5.79s/it]"
     ]
    },
    {
     "name": "stdout",
     "output_type": "stream",
     "text": [
      "[386, 20]\n",
      "186\n",
      "['one', 'best']\n",
      "[386, 826]\n",
      "135\n",
      "['one', 'favorite']\n"
     ]
    },
    {
     "name": "stderr",
     "output_type": "stream",
     "text": [
      " 26%|████████████████████▏                                                         | 253/977 [24:23<1:09:46,  5.78s/it]"
     ]
    },
    {
     "name": "stdout",
     "output_type": "stream",
     "text": [
      "[390, 204]\n",
      "108\n",
      "['reasonable', 'price']\n"
     ]
    },
    {
     "name": "stderr",
     "output_type": "stream",
     "text": [
      " 26%|████████████████████▎                                                         | 255/977 [24:34<1:09:58,  5.81s/it]"
     ]
    },
    {
     "name": "stdout",
     "output_type": "stream",
     "text": [
      "[392, 108]\n",
      "230\n",
      "['every', 'time']\n"
     ]
    },
    {
     "name": "stderr",
     "output_type": "stream",
     "text": [
      " 26%|████████████████████▌                                                         | 258/977 [24:52<1:09:30,  5.80s/it]"
     ]
    },
    {
     "name": "stdout",
     "output_type": "stream",
     "text": [
      "[404, 54]\n",
      "128\n",
      "['wait', 'staff']\n"
     ]
    },
    {
     "name": "stderr",
     "output_type": "stream",
     "text": [
      " 31%|███████████████████████▉                                                      | 300/977 [28:54<1:05:13,  5.78s/it]"
     ]
    },
    {
     "name": "stdout",
     "output_type": "stream",
     "text": [
      "[486, 108]\n",
      "125\n",
      "['long', 'time']\n"
     ]
    },
    {
     "name": "stderr",
     "output_type": "stream",
     "text": [
      " 33%|█████████████████████████▌                                                    | 320/977 [30:48<1:03:33,  5.80s/it]"
     ]
    },
    {
     "name": "stdout",
     "output_type": "stream",
     "text": [
      "[523, 86]\n",
      "110\n",
      "['saturday', 'night']\n"
     ]
    },
    {
     "name": "stderr",
     "output_type": "stream",
     "text": [
      " 34%|██████████████████████████▎                                                   | 329/977 [31:40<1:02:28,  5.78s/it]"
     ]
    },
    {
     "name": "stdout",
     "output_type": "stream",
     "text": [
      "[536, 5635]\n",
      "122\n",
      "['giant', 'eagle']\n"
     ]
    },
    {
     "name": "stderr",
     "output_type": "stream",
     "text": [
      " 35%|████████████████████████████                                                    | 342/977 [32:55<59:23,  5.61s/it]"
     ]
    },
    {
     "name": "stdout",
     "output_type": "stream",
     "text": [
      "[556, 273]\n",
      "163\n",
      "['happy', 'hour']\n"
     ]
    },
    {
     "name": "stderr",
     "output_type": "stream",
     "text": [
      " 41%|████████████████████████████████▌                                               | 398/977 [38:14<54:37,  5.66s/it]"
     ]
    },
    {
     "name": "stdout",
     "output_type": "stream",
     "text": [
      "[674, 5]\n",
      "113\n",
      "['looked', 'like']\n"
     ]
    },
    {
     "name": "stderr",
     "output_type": "stream",
     "text": [
      " 45%|████████████████████████████████████                                            | 441/977 [42:19<50:43,  5.68s/it]"
     ]
    },
    {
     "name": "stdout",
     "output_type": "stream",
     "text": [
      "[760, 5]\n",
      "230\n",
      "['feel', 'like']\n"
     ]
    },
    {
     "name": "stderr",
     "output_type": "stream",
     "text": [
      " 52%|█████████████████████████████████████████▎                                      | 504/977 [48:16<44:58,  5.71s/it]"
     ]
    },
    {
     "name": "stdout",
     "output_type": "stream",
     "text": [
      "[923, 391]\n",
      "101\n",
      "['coming', 'back']\n"
     ]
    },
    {
     "name": "stderr",
     "output_type": "stream",
     "text": [
      "\r",
      " 52%|█████████████████████████████████████████▎                                      | 505/977 [48:22<45:07,  5.74s/it]"
     ]
    },
    {
     "name": "stdout",
     "output_type": "stream",
     "text": [
      "[926, 927]\n",
      "103\n",
      "['reasonably', 'priced']\n"
     ]
    },
    {
     "name": "stderr",
     "output_type": "stream",
     "text": [
      " 58%|██████████████████████████████████████████████                                  | 562/977 [53:57<40:01,  5.79s/it]"
     ]
    },
    {
     "name": "stdout",
     "output_type": "stream",
     "text": [
      "[1117, 5]\n",
      "118\n",
      "['felt', 'like']\n"
     ]
    },
    {
     "name": "stderr",
     "output_type": "stream",
     "text": [
      " 60%|████████████████████████████████████████████████▎                               | 590/977 [56:42<38:10,  5.92s/it]"
     ]
    },
    {
     "name": "stdout",
     "output_type": "stream",
     "text": [
      "[1192, 166]\n",
      "120\n",
      "['french', 'fry']\n"
     ]
    },
    {
     "name": "stderr",
     "output_type": "stream",
     "text": [
      " 63%|██████████████████████████████████████████████████▌                             | 617/977 [59:27<36:57,  6.16s/it]"
     ]
    },
    {
     "name": "stdout",
     "output_type": "stream",
     "text": [
      "[1268, 108]\n",
      "227\n",
      "['next', 'time']\n"
     ]
    },
    {
     "name": "stderr",
     "output_type": "stream",
     "text": [
      " 70%|██████████████████████████████████████████████████████▌                       | 684/977 [1:06:15<29:21,  6.01s/it]"
     ]
    },
    {
     "name": "stdout",
     "output_type": "stream",
     "text": [
      "[1562, 142]\n",
      "133\n",
      "['parking', 'lot']\n"
     ]
    },
    {
     "name": "stderr",
     "output_type": "stream",
     "text": [
      " 74%|██████████████████████████████████████████████████████████                    | 727/977 [1:10:35<25:14,  6.06s/it]"
     ]
    },
    {
     "name": "stdout",
     "output_type": "stream",
     "text": [
      "[1735, 430]\n",
      "120\n",
      "['grocery', 'store']\n"
     ]
    },
    {
     "name": "stderr",
     "output_type": "stream",
     "text": [
      " 88%|████████████████████████████████████████████████████████████████████▌         | 859/977 [1:23:32<11:29,  5.84s/it]"
     ]
    },
    {
     "name": "stdout",
     "output_type": "stream",
     "text": [
      "[2601, 5]\n",
      "103\n",
      "['tasted', 'like']\n"
     ]
    },
    {
     "name": "stderr",
     "output_type": "stream",
     "text": [
      " 92%|███████████████████████████████████████████████████████████████████████▋      | 898/977 [1:27:20<07:31,  5.71s/it]"
     ]
    },
    {
     "name": "stdout",
     "output_type": "stream",
     "text": [
      "[3047, 7363]\n",
      "100\n",
      "['pasta', 'trio']\n"
     ]
    },
    {
     "name": "stderr",
     "output_type": "stream",
     "text": [
      "100%|██████████████████████████████████████████████████████████████████████████████| 977/977 [1:34:58<00:00,  5.73s/it]\n"
     ]
    },
    {
     "name": "stdout",
     "output_type": "stream",
     "text": [
      "Working on 2-Itemsets\n"
     ]
    },
    {
     "name": "stderr",
     "output_type": "stream",
     "text": [
      "100%|█████████████████████████████████████████████████████████████████████████████████| 63/63 [00:00<00:00, 112.16it/s]\n"
     ]
    }
   ],
   "source": [
    "LK_1 = L1\n",
    "while len(LK_1) > 0:\n",
    "    print(\"Working on %d-Itemsets\" % len(LK_1[0]))\n",
    "    LK_1, SK_1 = apriori_gen(review_lines, LK_1, MIN_SUPPORT)\n",
    "    if (len(LK_1) > 0):\n",
    "        L.append(LK_1)\n",
    "        S.append(SK_1)"
   ]
  },
  {
   "cell_type": "code",
   "execution_count": 65,
   "metadata": {},
   "outputs": [
    {
     "data": {
      "text/plain": [
       "[[7, 8],\n",
       " [16, 32],\n",
       " [16, 39],\n",
       " [16, 45],\n",
       " [32, 16],\n",
       " [32, 39],\n",
       " [32, 46],\n",
       " [32, 77],\n",
       " [38, 39],\n",
       " [39, 32],\n",
       " [39, 45],\n",
       " [45, 16],\n",
       " [45, 39],\n",
       " [45, 46],\n",
       " [46, 5],\n",
       " [46, 250],\n",
       " [54, 93],\n",
       " [58, 309],\n",
       " [65, 66],\n",
       " [67, 32],\n",
       " [67, 91],\n",
       " [89, 16],\n",
       " [93, 54],\n",
       " [101, 128],\n",
       " [101, 177],\n",
       " [102, 46],\n",
       " [128, 391],\n",
       " [129, 391],\n",
       " [140, 32],\n",
       " [140, 141],\n",
       " [141, 122],\n",
       " [143, 1500],\n",
       " [151, 152],\n",
       " [158, 15],\n",
       " [176, 177],\n",
       " [183, 108],\n",
       " [248, 391],\n",
       " [275, 368],\n",
       " [290, 5],\n",
       " [313, 5601],\n",
       " [333, 86],\n",
       " [333, 108],\n",
       " [374, 780],\n",
       " [386, 20],\n",
       " [386, 826],\n",
       " [390, 204],\n",
       " [392, 108],\n",
       " [404, 54],\n",
       " [486, 108],\n",
       " [523, 86],\n",
       " [536, 5635],\n",
       " [556, 273],\n",
       " [674, 5],\n",
       " [760, 5],\n",
       " [923, 391],\n",
       " [926, 927],\n",
       " [1117, 5],\n",
       " [1192, 166],\n",
       " [1268, 108],\n",
       " [1562, 142],\n",
       " [1735, 430],\n",
       " [2601, 5],\n",
       " [3047, 7363]]"
      ]
     },
     "execution_count": 65,
     "metadata": {},
     "output_type": "execute_result"
    }
   ],
   "source": [
    "L[2]"
   ]
  },
  {
   "cell_type": "code",
   "execution_count": 50,
   "metadata": {},
   "outputs": [],
   "source": [
    "with open('patterns.txt', 'w') as f:\n",
    "    for i in range(len(L)):\n",
    "        for j in range(len(L[i])):\n",
    "            f.write(\"%d:\"%(S[i][j]))\n",
    "            for k in range(len(L[i][j]) - 1):\n",
    "                f.write(\"%s;\"%(vocab_list[L[i][j][k]]))\n",
    "            f.write(\"%s\\n\"%(vocab_list[L[i][j][len(L[i][j]) - 1]]))"
   ]
  },
  {
   "cell_type": "code",
   "execution_count": 67,
   "metadata": {},
   "outputs": [
    {
     "data": {
      "text/plain": [
       "'ago'"
      ]
     },
     "execution_count": 67,
     "metadata": {},
     "output_type": "execute_result"
    }
   ],
   "source": [
    "vocab_list[8]"
   ]
  },
  {
   "cell_type": "code",
   "execution_count": null,
   "metadata": {
    "collapsed": true
   },
   "outputs": [],
   "source": []
  }
 ],
 "metadata": {
  "kernelspec": {
   "display_name": "Python 3",
   "language": "python",
   "name": "python3"
  },
  "language_info": {
   "codemirror_mode": {
    "name": "ipython",
    "version": 3
   },
   "file_extension": ".py",
   "mimetype": "text/x-python",
   "name": "python",
   "nbconvert_exporter": "python",
   "pygments_lexer": "ipython3",
   "version": "3.6.2"
  }
 },
 "nbformat": 4,
 "nbformat_minor": 2
}
