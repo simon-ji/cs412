{
 "cells": [
  {
   "cell_type": "code",
   "execution_count": 1,
   "metadata": {
    "collapsed": true
   },
   "outputs": [],
   "source": [
    "import pandas as pd"
   ]
  },
  {
   "cell_type": "code",
   "execution_count": 68,
   "metadata": {},
   "outputs": [],
   "source": [
    "def KnuthMorrisPratt(text, pattern):\n",
    "\n",
    "    '''Yields all starting positions of copies of the pattern in the text.\n",
    "Calling conventions are similar to string.find, but its arguments can be\n",
    "lists or iterators, not just strings, it returns all matches, not just\n",
    "the first one, and it does not need the whole text in memory at once.\n",
    "Whenever it yields, it will have read the text exactly up to and including\n",
    "the match that caused the yield.'''\n",
    "\n",
    "    # allow indexing into pattern and protect against change during yield\n",
    "    pattern = list(pattern)\n",
    "\n",
    "    # build table of shift amounts\n",
    "    shifts = [1] * (len(pattern) + 1)\n",
    "    shift = 1\n",
    "    for pos in range(len(pattern)):\n",
    "        while shift <= pos and pattern[pos] != pattern[pos-shift]:\n",
    "            shift += shifts[pos-shift]\n",
    "        shifts[pos+1] = shift\n",
    "\n",
    "    print(shifts)\n",
    "    # do the actual search\n",
    "    startPos = 0\n",
    "    matchLen = 0\n",
    "    for c in text:\n",
    "        while matchLen == len(pattern) or \\\n",
    "              matchLen >= 0 and pattern[matchLen] != c:\n",
    "            startPos += shifts[matchLen]\n",
    "            matchLen -= shifts[matchLen]\n",
    "        matchLen += 1\n",
    "        if matchLen == len(pattern):\n",
    "            yield startPos\n",
    "\n",
    "def search_list(text, pattern):\n",
    "    matchLen = len(pattern)\n",
    "    for i in range(len(text)):\n",
    "        if (text[i:i+matchLen] == pattern): return i\n",
    "    \n",
    "    return -1"
   ]
  },
  {
   "cell_type": "code",
   "execution_count": 91,
   "metadata": {},
   "outputs": [],
   "source": [
    "vocab_dict = {}\n",
    "vocab_list = []\n",
    "review_lines = []\n",
    "\n",
    "i = 0\n",
    "with open('reviews_sample.txt') as f:    \n",
    "    for line in f.read().splitlines():\n",
    "        vocab_index = []\n",
    "        for word in line.split(' '):\n",
    "            if word not in vocab_dict:                \n",
    "                vocab_dict[word] = i\n",
    "                word_index = i\n",
    "                vocab_list.append(word)\n",
    "                i += 1\n",
    "            else:\n",
    "                word_index = vocab_dict[word]\n",
    "            vocab_index.append(word_index)\n",
    "        \n",
    "        review_lines.append(vocab_index)"
   ]
  },
  {
   "cell_type": "code",
   "execution_count": null,
   "metadata": {},
   "outputs": [
    {
     "name": "stderr",
     "output_type": "stream",
     "text": [
      "\n",
      "  0%|          | 0/22104 [00:00<?, ?it/s]\u001b[A\n",
      "  0%|          | 1/22104 [00:00<41:43,  8.83it/s]\u001b[A\n",
      "  0%|          | 2/22104 [00:00<41:33,  8.86it/s]\u001b[A\n",
      "  0%|          | 3/22104 [00:00<41:59,  8.77it/s]\u001b[A\n",
      "  0%|          | 4/22104 [00:00<42:21,  8.70it/s]\u001b[A\n",
      "  0%|          | 5/22104 [00:00<42:24,  8.68it/s]\u001b[A\n",
      "  0%|          | 7/22104 [00:00<40:46,  9.03it/s]\u001b[A\n",
      "  0%|          | 8/22104 [00:00<39:54,  9.23it/s]\u001b[A\n",
      "  0%|          | 9/22104 [00:00<40:21,  9.12it/s]\u001b[A\n",
      "  0%|          | 10/22104 [00:01<40:30,  9.09it/s]\u001b[A\n",
      "  0%|          | 11/22104 [00:01<40:55,  9.00it/s]\u001b[A\n",
      "  0%|          | 12/22104 [00:01<40:00,  9.20it/s]\u001b[A\n",
      "  0%|          | 13/22104 [00:01<40:21,  9.12it/s]\u001b[A\n",
      "  0%|          | 14/22104 [00:01<40:21,  9.12it/s]\u001b[A\n",
      "  0%|          | 15/22104 [00:01<40:41,  9.05it/s]\u001b[A\n",
      "  0%|          | 16/22104 [00:01<40:21,  9.12it/s]\u001b[A\n",
      "  0%|          | 18/22104 [00:01<40:49,  9.02it/s]\u001b[A\n",
      "  0%|          | 19/22104 [00:02<43:13,  8.52it/s]\u001b[A\n",
      "  0%|          | 20/22104 [00:02<43:52,  8.39it/s]\u001b[A\n",
      "  0%|          | 22/22104 [00:02<42:07,  8.74it/s]\u001b[A\n",
      "  0%|          | 23/22104 [00:02<41:18,  8.91it/s]\u001b[A\n",
      "  0%|          | 24/22104 [00:02<40:02,  9.19it/s]\u001b[A\n",
      "  0%|          | 25/22104 [00:02<40:42,  9.04it/s]\u001b[A\n",
      "  0%|          | 26/22104 [00:02<42:12,  8.72it/s]\u001b[A\n",
      "  0%|          | 27/22104 [00:03<41:46,  8.81it/s]\u001b[A\n",
      "  0%|          | 28/22104 [00:03<41:08,  8.94it/s]\u001b[A\n",
      "  0%|          | 29/22104 [00:03<41:06,  8.95it/s]\u001b[A\n",
      "  0%|          | 30/22104 [00:03<41:03,  8.96it/s]\u001b[A\n",
      "  0%|          | 31/22104 [00:03<40:26,  9.10it/s]\u001b[A\n",
      "  0%|          | 32/22104 [00:03<41:00,  8.97it/s]\u001b[A\n",
      "  0%|          | 34/22104 [00:03<39:38,  9.28it/s]\u001b[A\n",
      "  0%|          | 35/22104 [00:03<41:37,  8.84it/s]\u001b[A\n",
      "  0%|          | 36/22104 [00:03<41:37,  8.83it/s]\u001b[A\n",
      "  0%|          | 37/22104 [00:04<41:04,  8.95it/s]\u001b[A\n",
      "  0%|          | 38/22104 [00:04<41:14,  8.92it/s]\u001b[A\n",
      "  0%|          | 39/22104 [00:04<41:19,  8.90it/s]\u001b[A\n",
      "  6%|▌         | 1231/22104 [02:14<38:44,  8.98it/s]"
     ]
    }
   ],
   "source": [
    "from tqdm import tqdm\n",
    "\n",
    "MIN_SUPPORT = len(review_lines) * 0.01\n",
    "\n",
    "def get_support(all_reviews, pattern):\n",
    "    support = 0\n",
    "    for review in all_reviews:\n",
    "        if search_list(review, pattern):\n",
    "            support += 1\n",
    "    \n",
    "    return support\n",
    "\n",
    "L = []\n",
    "S = []\n",
    "L1 = []\n",
    "S1 = []\n",
    "for vocab in tqdm(range(len(vocab_list))):\n",
    "    s = get_support(review_lines, [vocab])    \n",
    "    if(s >= MIN_SUPPORT):\n",
    "        L1.append([vocab])\n",
    "        S1.append(s)\n",
    "\n",
    "L.append(L1)\n",
    "S.append(S1)"
   ]
  },
  {
   "cell_type": "code",
   "execution_count": 219,
   "metadata": {
    "collapsed": true
   },
   "outputs": [],
   "source": [
    " def apriori_gen(all_lines, LK_1, min_support):\n",
    "    LK = []\n",
    "    S = []\n",
    "    for l1 in LK_1:\n",
    "        for l2 in LK_1:\n",
    "            if l1[:-1] == l2[:-1] and l1[-1] < l2[-1]:\n",
    "                l = l1 + [l2[-1]]\n",
    "                support = get_support(all_lines, l)\n",
    "                if support >= min_support:\n",
    "                    LK.append(l)\n",
    "                    S.append(support)\n",
    "    \n",
    "    return LK, S"
   ]
  },
  {
   "cell_type": "code",
   "execution_count": 220,
   "metadata": {},
   "outputs": [
    {
     "name": "stdout",
     "output_type": "stream",
     "text": [
      "Working on 1-Itemsets\n",
      "Working on 2-Itemsets\n",
      "Working on 3-Itemsets\n"
     ]
    }
   ],
   "source": [
    "LK_1 = L1\n",
    "while len(LK_1) > 0:\n",
    "    print(\"Working on %d-Itemsets\" % len(LK_1[0]))\n",
    "    LK_1, SK_1 = apriori_gen(review_lines, LK_1, MIN_SUPPORT)\n",
    "    if (len(LK_1) > 0):\n",
    "        L.append(LK_1)\n",
    "        S.append(SK_1)"
   ]
  },
  {
   "cell_type": "code",
   "execution_count": 221,
   "metadata": {
    "collapsed": true
   },
   "outputs": [],
   "source": [
    "with open('patterns_1.txt', 'w') as f:\n",
    "    for i in range(0, len(L[0])):\n",
    "        f.write(\"%d:%s\"%(S[0][i],cate_list[L[0][i][0]]))\n",
    "        f.write(\"\\n\")"
   ]
  },
  {
   "cell_type": "code",
   "execution_count": 222,
   "metadata": {
    "collapsed": true
   },
   "outputs": [],
   "source": [
    "with open('patterns_2.txt', 'w') as f:\n",
    "    for i in range(0, len(L)):\n",
    "        for j in range(0, len(L[i])):\n",
    "            f.write(\"%d:%s\"%(S[i][j], cate_list[L[i][j][0]]))\n",
    "            for k in range(1, i + 1):\n",
    "                f.write(\";%s\"%cate_list[L[i][j][k]])\n",
    "            f.write(\"\\n\")"
   ]
  },
  {
   "cell_type": "code",
   "execution_count": null,
   "metadata": {
    "collapsed": true
   },
   "outputs": [],
   "source": []
  }
 ],
 "metadata": {
  "kernelspec": {
   "display_name": "Python 3",
   "language": "python",
   "name": "python3"
  },
  "language_info": {
   "codemirror_mode": {
    "name": "ipython",
    "version": 3
   },
   "file_extension": ".py",
   "mimetype": "text/x-python",
   "name": "python",
   "nbconvert_exporter": "python",
   "pygments_lexer": "ipython3",
   "version": "3.6.3"
  }
 },
 "nbformat": 4,
 "nbformat_minor": 2
}
