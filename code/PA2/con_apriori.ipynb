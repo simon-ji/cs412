{
 "cells": [
  {
   "cell_type": "code",
   "execution_count": 156,
   "metadata": {},
   "outputs": [],
   "source": [
    "def KnuthMorrisPratt(text, pattern):\n",
    "\n",
    "    '''Yields all starting positions of copies of the pattern in the text.\n",
    "Calling conventions are similar to string.find, but its arguments can be\n",
    "lists or iterators, not just strings, it returns all matches, not just\n",
    "the first one, and it does not need the whole text in memory at once.\n",
    "Whenever it yields, it will have read the text exactly up to and including\n",
    "the match that caused the yield.'''\n",
    "\n",
    "    # allow indexing into pattern and protect against change during yield\n",
    "    pattern = list(pattern)\n",
    "\n",
    "    # build table of shift amounts\n",
    "    shifts = [1] * (len(pattern) + 1)\n",
    "    shift = 1\n",
    "    for pos in range(len(pattern)):\n",
    "        while shift <= pos and pattern[pos] != pattern[pos-shift]:\n",
    "            shift += shifts[pos-shift]\n",
    "        shifts[pos+1] = shift\n",
    "\n",
    "    print(shifts)\n",
    "    # do the actual search\n",
    "    startPos = 0\n",
    "    matchLen = 0\n",
    "    for c in text:\n",
    "        while matchLen == len(pattern) or \\\n",
    "              matchLen >= 0 and pattern[matchLen] != c:\n",
    "            startPos += shifts[matchLen]\n",
    "            matchLen -= shifts[matchLen]\n",
    "        matchLen += 1\n",
    "        if matchLen == len(pattern):\n",
    "            yield startPos\n",
    "\n",
    "def search_list(text, pattern):\n",
    "    matchLen = len(pattern)\n",
    "    for i in range(len(text) - matchLen + 1):\n",
    "        startPos = 0\n",
    "        while(startPos < matchLen and text[i + startPos] == pattern[startPos]):\n",
    "            startPos += 1\n",
    "        #if (text[i:i+matchLen] == pattern): return i\n",
    "        if (startPos == matchLen): return i\n",
    "    \n",
    "    return -1"
   ]
  },
  {
   "cell_type": "code",
   "execution_count": 157,
   "metadata": {},
   "outputs": [],
   "source": [
    "vocab_dict = {}\n",
    "vocab_list = []\n",
    "review_lines = []\n",
    "\n",
    "i = 0\n",
    "#with open('reviews_test.txt') as f:\n",
    "with open('reviews_sample.txt') as f: \n",
    "    for line in f.read().splitlines():\n",
    "        vocab_index = []\n",
    "        for word in line.split(' '):\n",
    "            if word not in vocab_dict:                \n",
    "                vocab_dict[word] = i\n",
    "                word_index = i\n",
    "                vocab_list.append(word)\n",
    "                i += 1\n",
    "            else:\n",
    "                word_index = vocab_dict[word]\n",
    "            vocab_index.append(word_index)\n",
    "        \n",
    "        review_lines.append(vocab_index)"
   ]
  },
  {
   "cell_type": "code",
   "execution_count": null,
   "metadata": {},
   "outputs": [
    {
     "name": "stderr",
     "output_type": "stream",
     "text": [
      "\n",
      "  0%|          | 0/22104 [00:00<?, ?it/s]\u001b[A\n",
      "  0%|          | 1/22104 [00:00<40:17,  9.14it/s]\u001b[A\n",
      "  0%|          | 2/22104 [00:00<40:29,  9.10it/s]\u001b[A\n",
      "  0%|          | 3/22104 [00:00<40:00,  9.21it/s]\u001b[A\n",
      "  0%|          | 4/22104 [00:00<39:29,  9.33it/s]\u001b[A\n",
      "  0%|          | 5/22104 [00:00<39:41,  9.28it/s]\u001b[A\n",
      "  0%|          | 7/22104 [00:00<38:58,  9.45it/s]\u001b[A\n",
      "  0%|          | 8/22104 [00:00<38:43,  9.51it/s]\u001b[A\n",
      "  0%|          | 9/22104 [00:00<39:36,  9.30it/s]\u001b[A\n",
      "  0%|          | 10/22104 [00:01<39:29,  9.33it/s]\u001b[A\n",
      "  0%|          | 11/22104 [00:01<40:18,  9.14it/s]\u001b[A\n",
      "  0%|          | 13/22104 [00:01<39:19,  9.36it/s]\u001b[A\n",
      "  0%|          | 14/22104 [00:01<40:15,  9.15it/s]\u001b[A\n",
      "  0%|          | 15/22104 [00:01<40:08,  9.17it/s]\u001b[A\n",
      "  0%|          | 17/22104 [00:01<38:02,  9.68it/s]\u001b[A\n",
      "  0%|          | 18/22104 [00:01<38:37,  9.53it/s]\u001b[A\n",
      "  0%|          | 19/22104 [00:01<38:14,  9.63it/s]\u001b[A\n",
      "  0%|          | 20/22104 [00:02<38:30,  9.56it/s]\u001b[A\n",
      "  0%|          | 22/22104 [00:02<37:23,  9.84it/s]\u001b[A\n",
      "  0%|          | 23/22104 [00:02<37:38,  9.78it/s]\u001b[A\n",
      "  0%|          | 25/22104 [00:02<37:28,  9.82it/s]\u001b[A\n",
      "  0%|          | 26/22104 [00:02<37:59,  9.69it/s]\u001b[A\n",
      "  0%|          | 27/22104 [00:02<38:04,  9.66it/s]\u001b[A\n",
      "  0%|          | 28/22104 [00:02<38:06,  9.65it/s]\u001b[A\n",
      "  0%|          | 29/22104 [00:03<38:41,  9.51it/s]\u001b[A\n",
      "  0%|          | 30/22104 [00:03<38:17,  9.61it/s]\u001b[A\n",
      "  0%|          | 31/22104 [00:03<38:26,  9.57it/s]\u001b[A\n",
      "  0%|          | 32/22104 [00:03<38:41,  9.51it/s]\u001b[A\n",
      "  0%|          | 34/22104 [00:03<37:31,  9.80it/s]\u001b[A\n",
      "  0%|          | 35/22104 [00:03<38:43,  9.50it/s]\u001b[A\n",
      "  0%|          | 36/22104 [00:03<38:54,  9.45it/s]\u001b[A\n",
      "  0%|          | 37/22104 [00:03<38:59,  9.43it/s]\u001b[A\n",
      "  0%|          | 38/22104 [00:03<39:44,  9.25it/s]\u001b[A\n",
      "  0%|          | 39/22104 [00:04<40:10,  9.15it/s]\u001b[A\n",
      "  0%|          | 40/22104 [00:04<39:17,  9.36it/s]\u001b[A\n",
      "  0%|          | 41/22104 [00:04<40:21,  9.11it/s]\u001b[A\n",
      "  0%|          | 42/22104 [00:04<40:35,  9.06it/s]\u001b[A\n",
      "  0%|          | 43/22104 [00:04<42:04,  8.74it/s]\u001b[A\n",
      "  0%|          | 44/22104 [00:04<40:51,  9.00it/s]\u001b[A\n",
      "  0%|          | 45/22104 [00:04<39:41,  9.26it/s]\u001b[A\n",
      "  0%|          | 47/22104 [00:04<36:59,  9.94it/s]\u001b[A\n",
      "  0%|          | 49/22104 [00:05<38:15,  9.61it/s]\u001b[A\n",
      "  0%|          | 50/22104 [00:05<38:32,  9.54it/s]\u001b[A\n",
      "  0%|          | 52/22104 [00:05<38:16,  9.60it/s]\u001b[A\n",
      "  0%|          | 53/22104 [00:05<38:48,  9.47it/s]\u001b[A\n",
      "  0%|          | 54/22104 [00:05<38:57,  9.43it/s]\u001b[A\n",
      "  0%|          | 55/22104 [00:05<39:09,  9.38it/s]\u001b[A\n",
      "  0%|          | 56/22104 [00:05<38:48,  9.47it/s]\u001b[A\n",
      "  0%|          | 57/22104 [00:05<39:06,  9.40it/s]\u001b[A\n",
      "  0%|          | 58/22104 [00:06<39:16,  9.35it/s]\u001b[A\n",
      "  0%|          | 60/22104 [00:06<38:18,  9.59it/s]\u001b[A\n",
      "  0%|          | 61/22104 [00:06<38:12,  9.61it/s]\u001b[A\n",
      "  0%|          | 62/22104 [00:06<38:15,  9.60it/s]\u001b[A\n",
      "  0%|          | 64/22104 [00:06<37:37,  9.76it/s]\u001b[A\n",
      "  0%|          | 66/22104 [00:06<37:30,  9.79it/s]\u001b[A\n",
      "  0%|          | 67/22104 [00:06<37:57,  9.67it/s]\u001b[A\n",
      "  0%|          | 69/22104 [00:07<37:21,  9.83it/s]\u001b[A\n",
      "  0%|          | 70/22104 [00:07<37:36,  9.77it/s]\u001b[A\n",
      "  0%|          | 71/22104 [00:07<38:26,  9.55it/s]\u001b[A\n",
      "  0%|          | 72/22104 [00:07<38:56,  9.43it/s]\u001b[A\n",
      " 41%|████      | 8990/22104 [15:56<22:58,  9.51it/s]"
     ]
    }
   ],
   "source": [
    "from tqdm import tqdm\n",
    "\n",
    "MIN_SUPPORT = len(review_lines) * 0.01\n",
    "\n",
    "def get_support(all_reviews, pattern):\n",
    "    support = 0\n",
    "    for review in all_reviews:\n",
    "        if search_list(review, pattern) >= 0:\n",
    "            support += 1\n",
    "    \n",
    "    return support\n",
    "\n",
    "L = []\n",
    "S = []\n",
    "L1 = []\n",
    "S1 = []\n",
    "for vocab in tqdm(range(len(vocab_list))):\n",
    "    s = get_support(review_lines, [vocab])    \n",
    "    if(s >= MIN_SUPPORT):\n",
    "        L1.append([vocab])\n",
    "        S1.append(s)\n",
    "\n",
    "L.append(L1)\n",
    "S.append(S1)"
   ]
  },
  {
   "cell_type": "code",
   "execution_count": 151,
   "metadata": {
    "collapsed": true
   },
   "outputs": [],
   "source": [
    " def apriori_gen(all_lines, LK_1, min_support):\n",
    "    LK = []\n",
    "    S = []\n",
    "    for l1 in tqdm(LK_1):\n",
    "        for l2 in LK_1:\n",
    "            if l1[:-1] == l2[:-1] and l1[-1] < l2[-1]:\n",
    "                l = l1 + [l2[-1]]\n",
    "                support = get_support(all_lines, l)\n",
    "                if support >= min_support:\n",
    "                    print(l)\n",
    "                    print(support)\n",
    "                    print([vocab_list[i] for i in l])\n",
    "                    LK.append(l)\n",
    "                    S.append(support)\n",
    "    \n",
    "    return LK, S"
   ]
  },
  {
   "cell_type": "code",
   "execution_count": 152,
   "metadata": {},
   "outputs": [
    {
     "name": "stderr",
     "output_type": "stream",
     "text": [
      "\n",
      "\r",
      "  0%|          | 0/1020 [00:00<?, ?it/s]"
     ]
    },
    {
     "name": "stdout",
     "output_type": "stream",
     "text": [
      "Working on 1-Itemsets\n"
     ]
    },
    {
     "name": "stderr",
     "output_type": "stream",
     "text": [
      "\u001b[A\n",
      "  0%|          | 3/1020 [00:28<2:39:41,  9.42s/it]"
     ]
    },
    {
     "name": "stdout",
     "output_type": "stream",
     "text": [
      "[5, 46]\n",
      "10\n",
      "['like', 'place']\n"
     ]
    },
    {
     "name": "stderr",
     "output_type": "stream",
     "text": [
      "\r",
      "  0%|          | 4/1020 [00:37<2:40:31,  9.48s/it]"
     ]
    },
    {
     "name": "stdout",
     "output_type": "stream",
     "text": [
      "[7, 8]\n",
      "22\n",
      "['year', 'ago']\n",
      "[7, 9]\n",
      "16\n",
      "['year', 'old']\n"
     ]
    },
    {
     "name": "stderr",
     "output_type": "stream",
     "text": [
      "\r",
      "  0%|          | 5/1020 [00:47<2:42:36,  9.61s/it]"
     ]
    },
    {
     "ename": "KeyboardInterrupt",
     "evalue": "",
     "output_type": "error",
     "traceback": [
      "\u001b[0;31m---------------------------------------------------------------------------\u001b[0m",
      "\u001b[0;31mKeyboardInterrupt\u001b[0m                         Traceback (most recent call last)",
      "\u001b[0;32m<ipython-input-152-caf3a329b586>\u001b[0m in \u001b[0;36m<module>\u001b[0;34m()\u001b[0m\n\u001b[1;32m      2\u001b[0m \u001b[0;32mwhile\u001b[0m \u001b[0mlen\u001b[0m\u001b[0;34m(\u001b[0m\u001b[0mLK_1\u001b[0m\u001b[0;34m)\u001b[0m \u001b[0;34m>\u001b[0m \u001b[0;36m0\u001b[0m\u001b[0;34m:\u001b[0m\u001b[0;34m\u001b[0m\u001b[0m\n\u001b[1;32m      3\u001b[0m     \u001b[0mprint\u001b[0m\u001b[0;34m(\u001b[0m\u001b[0;34m\"Working on %d-Itemsets\"\u001b[0m \u001b[0;34m%\u001b[0m \u001b[0mlen\u001b[0m\u001b[0;34m(\u001b[0m\u001b[0mLK_1\u001b[0m\u001b[0;34m[\u001b[0m\u001b[0;36m0\u001b[0m\u001b[0;34m]\u001b[0m\u001b[0;34m)\u001b[0m\u001b[0;34m)\u001b[0m\u001b[0;34m\u001b[0m\u001b[0m\n\u001b[0;32m----> 4\u001b[0;31m     \u001b[0mLK_1\u001b[0m\u001b[0;34m,\u001b[0m \u001b[0mSK_1\u001b[0m \u001b[0;34m=\u001b[0m \u001b[0mapriori_gen\u001b[0m\u001b[0;34m(\u001b[0m\u001b[0mreview_lines\u001b[0m\u001b[0;34m,\u001b[0m \u001b[0mLK_1\u001b[0m\u001b[0;34m,\u001b[0m \u001b[0mMIN_SUPPORT\u001b[0m\u001b[0;34m)\u001b[0m\u001b[0;34m\u001b[0m\u001b[0m\n\u001b[0m\u001b[1;32m      5\u001b[0m     \u001b[0;32mif\u001b[0m \u001b[0;34m(\u001b[0m\u001b[0mlen\u001b[0m\u001b[0;34m(\u001b[0m\u001b[0mLK_1\u001b[0m\u001b[0;34m)\u001b[0m \u001b[0;34m>\u001b[0m \u001b[0;36m0\u001b[0m\u001b[0;34m)\u001b[0m\u001b[0;34m:\u001b[0m\u001b[0;34m\u001b[0m\u001b[0m\n\u001b[1;32m      6\u001b[0m         \u001b[0mL\u001b[0m\u001b[0;34m.\u001b[0m\u001b[0mappend\u001b[0m\u001b[0;34m(\u001b[0m\u001b[0mLK_1\u001b[0m\u001b[0;34m)\u001b[0m\u001b[0;34m\u001b[0m\u001b[0m\n",
      "\u001b[0;32m<ipython-input-151-38d573288b37>\u001b[0m in \u001b[0;36mapriori_gen\u001b[0;34m(all_lines, LK_1, min_support)\u001b[0m\n\u001b[1;32m      6\u001b[0m            \u001b[0;32mif\u001b[0m \u001b[0ml1\u001b[0m\u001b[0;34m[\u001b[0m\u001b[0;34m:\u001b[0m\u001b[0;34m-\u001b[0m\u001b[0;36m1\u001b[0m\u001b[0;34m]\u001b[0m \u001b[0;34m==\u001b[0m \u001b[0ml2\u001b[0m\u001b[0;34m[\u001b[0m\u001b[0;34m:\u001b[0m\u001b[0;34m-\u001b[0m\u001b[0;36m1\u001b[0m\u001b[0;34m]\u001b[0m \u001b[0;32mand\u001b[0m \u001b[0ml1\u001b[0m\u001b[0;34m[\u001b[0m\u001b[0;34m-\u001b[0m\u001b[0;36m1\u001b[0m\u001b[0;34m]\u001b[0m \u001b[0;34m<\u001b[0m \u001b[0ml2\u001b[0m\u001b[0;34m[\u001b[0m\u001b[0;34m-\u001b[0m\u001b[0;36m1\u001b[0m\u001b[0;34m]\u001b[0m\u001b[0;34m:\u001b[0m\u001b[0;34m\u001b[0m\u001b[0m\n\u001b[1;32m      7\u001b[0m                \u001b[0ml\u001b[0m \u001b[0;34m=\u001b[0m \u001b[0ml1\u001b[0m \u001b[0;34m+\u001b[0m \u001b[0;34m[\u001b[0m\u001b[0ml2\u001b[0m\u001b[0;34m[\u001b[0m\u001b[0;34m-\u001b[0m\u001b[0;36m1\u001b[0m\u001b[0;34m]\u001b[0m\u001b[0;34m]\u001b[0m\u001b[0;34m\u001b[0m\u001b[0m\n\u001b[0;32m----> 8\u001b[0;31m                \u001b[0msupport\u001b[0m \u001b[0;34m=\u001b[0m \u001b[0mget_support\u001b[0m\u001b[0;34m(\u001b[0m\u001b[0mall_lines\u001b[0m\u001b[0;34m,\u001b[0m \u001b[0ml\u001b[0m\u001b[0;34m)\u001b[0m\u001b[0;34m\u001b[0m\u001b[0m\n\u001b[0m\u001b[1;32m      9\u001b[0m                \u001b[0;32mif\u001b[0m \u001b[0msupport\u001b[0m \u001b[0;34m>=\u001b[0m \u001b[0mmin_support\u001b[0m\u001b[0;34m:\u001b[0m\u001b[0;34m\u001b[0m\u001b[0m\n\u001b[1;32m     10\u001b[0m                    \u001b[0mprint\u001b[0m\u001b[0;34m(\u001b[0m\u001b[0ml\u001b[0m\u001b[0;34m)\u001b[0m\u001b[0;34m\u001b[0m\u001b[0m\n",
      "\u001b[0;32m<ipython-input-143-58e3a3a46139>\u001b[0m in \u001b[0;36mget_support\u001b[0;34m(all_reviews, pattern)\u001b[0m\n\u001b[1;32m      6\u001b[0m     \u001b[0msupport\u001b[0m \u001b[0;34m=\u001b[0m \u001b[0;36m0\u001b[0m\u001b[0;34m\u001b[0m\u001b[0m\n\u001b[1;32m      7\u001b[0m     \u001b[0;32mfor\u001b[0m \u001b[0mreview\u001b[0m \u001b[0;32min\u001b[0m \u001b[0mall_reviews\u001b[0m\u001b[0;34m:\u001b[0m\u001b[0;34m\u001b[0m\u001b[0m\n\u001b[0;32m----> 8\u001b[0;31m         \u001b[0;32mif\u001b[0m \u001b[0msearch_list\u001b[0m\u001b[0;34m(\u001b[0m\u001b[0mreview\u001b[0m\u001b[0;34m,\u001b[0m \u001b[0mpattern\u001b[0m\u001b[0;34m)\u001b[0m \u001b[0;34m>=\u001b[0m \u001b[0;36m0\u001b[0m\u001b[0;34m:\u001b[0m\u001b[0;34m\u001b[0m\u001b[0m\n\u001b[0m\u001b[1;32m      9\u001b[0m             \u001b[0msupport\u001b[0m \u001b[0;34m+=\u001b[0m \u001b[0;36m1\u001b[0m\u001b[0;34m\u001b[0m\u001b[0m\n\u001b[1;32m     10\u001b[0m \u001b[0;34m\u001b[0m\u001b[0m\n",
      "\u001b[0;32m<ipython-input-114-cb7cac4ae24f>\u001b[0m in \u001b[0;36msearch_list\u001b[0;34m(text, pattern)\u001b[0m\n\u001b[1;32m     35\u001b[0m     \u001b[0;32mfor\u001b[0m \u001b[0mi\u001b[0m \u001b[0;32min\u001b[0m \u001b[0mrange\u001b[0m\u001b[0;34m(\u001b[0m\u001b[0mlen\u001b[0m\u001b[0;34m(\u001b[0m\u001b[0mtext\u001b[0m\u001b[0;34m)\u001b[0m \u001b[0;34m-\u001b[0m \u001b[0mmatchLen\u001b[0m \u001b[0;34m+\u001b[0m \u001b[0;36m1\u001b[0m\u001b[0;34m)\u001b[0m\u001b[0;34m:\u001b[0m\u001b[0;34m\u001b[0m\u001b[0m\n\u001b[1;32m     36\u001b[0m         \u001b[0mstartPos\u001b[0m \u001b[0;34m=\u001b[0m \u001b[0;36m0\u001b[0m\u001b[0;34m\u001b[0m\u001b[0m\n\u001b[0;32m---> 37\u001b[0;31m         \u001b[0;32mwhile\u001b[0m\u001b[0;34m(\u001b[0m\u001b[0mstartPos\u001b[0m \u001b[0;34m<\u001b[0m \u001b[0mmatchLen\u001b[0m \u001b[0;32mand\u001b[0m \u001b[0mtext\u001b[0m\u001b[0;34m[\u001b[0m\u001b[0mi\u001b[0m \u001b[0;34m+\u001b[0m \u001b[0mstartPos\u001b[0m\u001b[0;34m]\u001b[0m \u001b[0;34m==\u001b[0m \u001b[0mpattern\u001b[0m\u001b[0;34m[\u001b[0m\u001b[0mstartPos\u001b[0m\u001b[0;34m]\u001b[0m\u001b[0;34m)\u001b[0m\u001b[0;34m:\u001b[0m\u001b[0;34m\u001b[0m\u001b[0m\n\u001b[0m\u001b[1;32m     38\u001b[0m             \u001b[0mstartPos\u001b[0m \u001b[0;34m+=\u001b[0m \u001b[0;36m1\u001b[0m\u001b[0;34m\u001b[0m\u001b[0m\n\u001b[1;32m     39\u001b[0m         \u001b[0;31m#if (text[i:i+matchLen] == pattern): return i\u001b[0m\u001b[0;34m\u001b[0m\u001b[0;34m\u001b[0m\u001b[0m\n",
      "\u001b[0;31mKeyboardInterrupt\u001b[0m: "
     ]
    }
   ],
   "source": [
    "LK_1 = L1\n",
    "while len(LK_1) > 0:\n",
    "    print(\"Working on %d-Itemsets\" % len(LK_1[0]))\n",
    "    LK_1, SK_1 = apriori_gen(review_lines, LK_1, MIN_SUPPORT)\n",
    "    if (len(LK_1) > 0):\n",
    "        L.append(LK_1)\n",
    "        S.append(SK_1)"
   ]
  },
  {
   "cell_type": "code",
   "execution_count": null,
   "metadata": {
    "collapsed": true
   },
   "outputs": [],
   "source": [
    "with open('patterns.txt', 'w') as f:\n",
    "    for i in range(len(L)):\n",
    "        for j in range(len(L[i]))\n",
    "            f.write(\"%d:\"%(S[i][j]))\n",
    "            for k in range(len(L[i][j] - 1)):\n",
    "                f.write(\"%s;\"%(vocab_list[L[i][j][k]]))\n",
    "            f.write(\"%s\\n\"%(vocab_list[L[i][j][len(L[i][j] - 1)]]))"
   ]
  }
 ],
 "metadata": {
  "kernelspec": {
   "display_name": "Python 3",
   "language": "python",
   "name": "python3"
  },
  "language_info": {
   "codemirror_mode": {
    "name": "ipython",
    "version": 3
   },
   "file_extension": ".py",
   "mimetype": "text/x-python",
   "name": "python",
   "nbconvert_exporter": "python",
   "pygments_lexer": "ipython3",
   "version": "3.6.3"
  }
 },
 "nbformat": 4,
 "nbformat_minor": 2
}
